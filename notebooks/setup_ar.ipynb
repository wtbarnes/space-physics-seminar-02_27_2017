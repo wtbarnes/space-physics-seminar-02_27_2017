{
 "cells": [
  {
   "cell_type": "markdown",
   "metadata": {},
   "source": [
    "# Seminar Example: Impulsively Heated AR\n",
    "Setup a proof of concept for the Space Physics Seminar at Rice University. This will be an AR heated randomly by several nanoflares with 500 loops. We will image it with both SDO and EIS."
   ]
  },
  {
   "cell_type": "code",
   "execution_count": 3,
   "metadata": {
    "collapsed": false
   },
   "outputs": [
    {
     "name": "stderr",
     "output_type": "stream",
     "text": [
      "WARNING: AstropyDeprecationWarning: astropy.utils.compat.odict.OrderedDict is now deprecated - import OrderedDict from the collections module instead [astropy.utils.compat.odict]\n",
      "WARNING:astropy:AstropyDeprecationWarning: astropy.utils.compat.odict.OrderedDict is now deprecated - import OrderedDict from the collections module instead\n"
     ]
    },
    {
     "name": "stdout",
     "output_type": "stream",
     "text": [
      " using cli\n",
      " using CLI for selections\n",
      " reading chiantirc file\n"
     ]
    },
    {
     "name": "stderr",
     "output_type": "stream",
     "text": [
      "/opt/anaconda3/envs/synthesizar/lib/python3.5/site-packages/matplotlib/__init__.py:1357: UserWarning:  This call to matplotlib.use() has no effect\n",
      "because the backend has already been chosen;\n",
      "matplotlib.use() must be called *before* pylab, matplotlib.pyplot,\n",
      "or matplotlib.backends is imported for the first time.\n",
      "\n",
      "  warnings.warn(_use_error_msg)\n"
     ]
    }
   ],
   "source": [
    "import os\n",
    "import glob\n",
    "import logging\n",
    "import subprocess\n",
    "logging.basicConfig(level=logging.INFO)\n",
    "\n",
    "import numpy as np\n",
    "import matplotlib.pyplot as plt\n",
    "import matplotlib.colors\n",
    "from matplotlib.ticker import LogFormatter\n",
    "import astropy.units as u\n",
    "from sunpy.map import Map,MapCube\n",
    "\n",
    "import synthesizAR\n",
    "from synthesizAR.model_ext import EbtelInterface,calculate_free_energy\n",
    "from synthesizAR.instruments import InstrumentHinodeEIS,InstrumentSDOAIA\n",
    "\n",
    "%matplotlib inline"
   ]
  },
  {
   "cell_type": "code",
   "execution_count": 4,
   "metadata": {
    "collapsed": true
   },
   "outputs": [],
   "source": [
    "ar_root = '/data/datadrive2/ar_viz/seminar_poc/'"
   ]
  },
  {
   "cell_type": "markdown",
   "metadata": {},
   "source": [
    "First extrapolate the field and trace the loops."
   ]
  },
  {
   "cell_type": "code",
   "execution_count": 5,
   "metadata": {
    "collapsed": false
   },
   "outputs": [
    {
     "name": "stderr",
     "output_type": "stream",
     "text": [
      "/opt/anaconda3/envs/synthesizar/lib/python3.5/site-packages/sunpy/image/transform.py:130: RuntimeWarning: Setting NaNs to 0 for higher-order scikit-image rotation\n",
      "  RuntimeWarning)\n"
     ]
    }
   ],
   "source": [
    "crop = (u.Quantity([-400,-140]*u.arcsec),u.Quantity([320,540]*u.arcsec))\n",
    "resample = u.Quantity([100,100]*u.pixel)\n",
    "field = synthesizAR.Skeleton('/home/wtb2/sunpy/data/hmi_m_45s_2010_06_19_03_06_00_tai_magnetogram.0.fits',\n",
    "                             crop=crop,resample=resample)"
   ]
  },
  {
   "cell_type": "code",
   "execution_count": 6,
   "metadata": {
    "collapsed": false
   },
   "outputs": [
    {
     "name": "stdout",
     "output_type": "stream",
     "text": [
      "True\n"
     ]
    },
    {
     "name": "stderr",
     "output_type": "stream",
     "text": [
      "/opt/anaconda3/envs/synthesizar/lib/python3.5/site-packages/numba/decorators.py:24: DeprecationWarning: autojit is deprecated, use jit instead which now performs the same functionality\n",
      "  \"the same functionality\", DeprecationWarning)\n",
      "yt : [INFO     ] 2017-02-26 02:45:58,021 Parameters: current_time              = 0.0\n",
      "yt : [INFO     ] 2017-02-26 02:45:58,023 Parameters: domain_dimensions         = [96 96 46]\n",
      "yt : [INFO     ] 2017-02-26 02:45:58,024 Parameters: domain_left_edge          = [ -2.89511786e+10   2.37893407e+10   4.40182588e+08]\n",
      "yt : [INFO     ] 2017-02-26 02:45:58,026 Parameters: domain_right_edge         = [ -1.06601257e+10   3.93100982e+10   1.05643821e+10]\n",
      "yt : [INFO     ] 2017-02-26 02:45:58,027 Parameters: cosmological_simulation   = 0.0\n"
     ]
    }
   ],
   "source": [
    "zshape=50\n",
    "zrange=u.Quantity([0.,150.]*u.arcsec)\n",
    "field.extrapolate_field(zshape,zrange)"
   ]
  },
  {
   "cell_type": "code",
   "execution_count": 7,
   "metadata": {
    "collapsed": false
   },
   "outputs": [
    {
     "name": "stderr",
     "output_type": "stream",
     "text": [
      "INFO:Skeleton:Tracing fieldlines\n",
      "yt : [INFO     ] 2017-02-26 02:45:58,354 AMRKDTree rebuilt, Final Volume: 2.874169e+30\n",
      "Streamlining: 100%|██████████| 500/500 [00:01<00:00, 330.06it/s]\n",
      "yt : [INFO     ] 2017-02-26 02:46:06,663 AMRKDTree rebuilt, Final Volume: 2.874169e+30\n",
      "Streamlining: 100%|██████████| 124/124 [00:00<00:00, 341.58it/s]\n",
      "yt : [INFO     ] 2017-02-26 02:46:08,842 AMRKDTree rebuilt, Final Volume: 2.874169e+30\n",
      "Streamlining: 100%|██████████| 30/30 [00:00<00:00, 307.82it/s]\n",
      "yt : [INFO     ] 2017-02-26 02:46:09,502 AMRKDTree rebuilt, Final Volume: 2.874169e+30\n",
      "Streamlining: 100%|██████████| 6/6 [00:00<00:00, 162.60it/s]\n",
      "yt : [INFO     ] 2017-02-26 02:46:09,779 AMRKDTree rebuilt, Final Volume: 2.874169e+30\n",
      "Streamlining: 100%|██████████| 2/2 [00:00<00:00, 142.96it/s]\n"
     ]
    }
   ],
   "source": [
    "field.extract_streamlines(500,loop_length_range=[1e+9,1e+11]*u.cm)"
   ]
  },
  {
   "cell_type": "code",
   "execution_count": 8,
   "metadata": {
    "collapsed": true
   },
   "outputs": [],
   "source": [
    "field.make_loops()"
   ]
  },
  {
   "cell_type": "markdown",
   "metadata": {},
   "source": [
    "Then run the hydrodynamic simulations."
   ]
  },
  {
   "cell_type": "code",
   "execution_count": 9,
   "metadata": {
    "collapsed": true
   },
   "outputs": [],
   "source": [
    "class NanoflareStormModel(object):\n",
    "    def __init__(self,heating_options):\n",
    "        self.heating_options = heating_options\n",
    "        np.random.seed()\n",
    "        \n",
    "    @property\n",
    "    def number_events(self):\n",
    "        return 1\n",
    "    \n",
    "    def calculate_event_properties(self,loop):\n",
    "        available_energy = calculate_free_energy(loop.field_aligned_coordinate,loop.field_strength,\n",
    "                                                 stress_level=self.heating_options['stress_level'])\n",
    "        rate = 2.0*available_energy/(self.number_events*(2.0*self.heating_options['duration'] \n",
    "                                                         - self.heating_options['duration_rise'] \n",
    "                                                         - self.heating_options['duration_decay']))\n",
    "        #distribute start times randomly between 0 and total_time - duration\n",
    "        tsr = np.random.rand(self.number_events)*(self.base_config['total_time'] - self.heating_options['duration'])\n",
    "        ter = tsr + self.heating_options['duration_rise']\n",
    "        tsd = ter + (self.heating_options['duration'] \n",
    "                     - self.heating_options['duration_rise'] \n",
    "                     - self.heating_options['duration_decay'])\n",
    "        ted = tsr + self.heating_options['duration']\n",
    "        return {'magnitude':np.array([rate]),'rise_start':tsr,'rise_end':ter,'decay_start':tsd,'decay_end':ted}"
   ]
  },
  {
   "cell_type": "code",
   "execution_count": 10,
   "metadata": {
    "collapsed": true
   },
   "outputs": [],
   "source": [
    "heating_options = {\n",
    "    'duration':200.0,\n",
    "    'duration_rise':100.0,\n",
    "    'duration_decay':100.0,\n",
    "    'stress_level':0.15,\n",
    "}\n",
    "heating_model = NanoflareStormModel(heating_options)\n",
    "ih = synthesizAR.util.InputHandler(os.path.join(os.environ['RESEARCH_DIR'],\n",
    "                                                'ebtelPlusPlus/config/ebtel.example.cfg.xml'))\n",
    "base_config = ih.lookup_vars()\n",
    "base_config['c1_cond0'] = 6.0\n",
    "base_config['use_adaptive_solver'] = True\n",
    "base_config['tau'] = 1.0\n",
    "base_config['adaptive_solver_error'] = 1e-12\n",
    "base_config['adaptive_solver_safety'] = 0.01\n",
    "base_config['total_time'] = 5000.0\n",
    "ebtel_plug = EbtelInterface(base_config,heating_model,\n",
    "                            os.path.join(ar_root,'hydro_config'),\n",
    "                            os.path.join(ar_root,'hydro_results'))"
   ]
  },
  {
   "cell_type": "code",
   "execution_count": 11,
   "metadata": {
    "collapsed": true
   },
   "outputs": [],
   "source": [
    "field.configure_loop_simulations(ebtel_plug)"
   ]
  },
  {
   "cell_type": "code",
   "execution_count": 12,
   "metadata": {
    "collapsed": true
   },
   "outputs": [],
   "source": [
    "for loop in field.loops:\n",
    "    subprocess.call([os.path.join(os.environ['RESEARCH_DIR'],'ebtelPlusPlus/bin/ebtel++.run'),\n",
    "                     '-c',loop.hydro_configuration['config_filename']])"
   ]
  },
  {
   "cell_type": "code",
   "execution_count": 13,
   "metadata": {
    "collapsed": true
   },
   "outputs": [],
   "source": [
    "field.load_loop_simulations(ebtel_plug,savefile=os.path.join(ar_root,'loop_parameters.h5'))"
   ]
  },
  {
   "cell_type": "code",
   "execution_count": 14,
   "metadata": {
    "collapsed": true
   },
   "outputs": [],
   "source": [
    "field.save(savedir=os.path.join(ar_root,'checkpoint'))"
   ]
  },
  {
   "cell_type": "code",
   "execution_count": null,
   "metadata": {
    "collapsed": true
   },
   "outputs": [],
   "source": []
  }
 ],
 "metadata": {
  "kernelspec": {
   "display_name": "Python [conda env:synthesizar]",
   "language": "python",
   "name": "conda-env-synthesizar-py"
  }
 },
 "nbformat": 4,
 "nbformat_minor": 2
}
