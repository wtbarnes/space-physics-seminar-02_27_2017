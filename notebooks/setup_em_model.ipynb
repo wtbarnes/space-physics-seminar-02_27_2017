{
 "cells": [
  {
   "cell_type": "markdown",
   "metadata": {},
   "source": [
    "# Setup Emission Model\n",
    "Setup the model for calculating the emission. This includes building the line list and configuring which lines are in the wavelength-resolved list."
   ]
  },
  {
   "cell_type": "code",
   "execution_count": 1,
   "metadata": {
    "collapsed": false
   },
   "outputs": [
    {
     "name": "stdout",
     "output_type": "stream",
     "text": [
      " using cli\n",
      " using CLI for selections\n",
      " reading chiantirc file\n"
     ]
    },
    {
     "name": "stderr",
     "output_type": "stream",
     "text": [
      "WARNING: AstropyDeprecationWarning: astropy.utils.compat.odict.OrderedDict is now deprecated - import OrderedDict from the collections module instead [astropy.utils.compat.odict]\n",
      "WARNING:astropy:AstropyDeprecationWarning: astropy.utils.compat.odict.OrderedDict is now deprecated - import OrderedDict from the collections module instead\n",
      "/opt/anaconda3/envs/synthesizar/lib/python3.5/site-packages/matplotlib/__init__.py:1357: UserWarning:  This call to matplotlib.use() has no effect\n",
      "because the backend has already been chosen;\n",
      "matplotlib.use() must be called *before* pylab, matplotlib.pyplot,\n",
      "or matplotlib.backends is imported for the first time.\n",
      "\n",
      "  warnings.warn(_use_error_msg)\n"
     ]
    }
   ],
   "source": [
    "import urllib\n",
    "import os\n",
    "import logging\n",
    "logging.basicConfig(level=logging.INFO)\n",
    "\n",
    "import numpy as np\n",
    "import astropy.units as u\n",
    "import ChiantiPy.core as ch\n",
    "import ChiantiPy.tools.util as ch_tools_util\n",
    "\n",
    "from synthesizAR.atomic import EmissionModel\n"
   ]
  },
  {
   "cell_type": "code",
   "execution_count": 2,
   "metadata": {
    "collapsed": true
   },
   "outputs": [],
   "source": [
    "ar_root = '/data/datadrive2/ar_viz/seminar_poc/'"
   ]
  },
  {
   "cell_type": "markdown",
   "metadata": {},
   "source": [
    "First, get the lines that we want to actually resolve."
   ]
  },
  {
   "cell_type": "code",
   "execution_count": 3,
   "metadata": {
    "collapsed": false
   },
   "outputs": [
    {
     "data": {
      "text/plain": [
       "{'name': 'fe_9', 'wavelengths': <Quantity [ 188.497] Angstrom>}"
      ]
     },
     "execution_count": 3,
     "metadata": {},
     "output_type": "execute_result"
    }
   ],
   "source": [
    "new_linelist = [list(filter(None,line.decode('utf-8').strip('\\n').split(' '))) \\\n",
    "                for line in urllib.request.urlopen('http://iopscience.iop.org/0004-637X/759/2/141/suppdata/apj446760t2_mrt.txt').readlines()[19:]]\n",
    "resolved_transitions = []\n",
    "for line in new_linelist:\n",
    "    if int(line[0]) == 1 and line[1] == 'EIS':\n",
    "        el = line[2]\n",
    "        ion = line[3]\n",
    "        wvl = float(line[4])\n",
    "        el_ion = ch_tools_util.spectroscopic2name(el,ion)\n",
    "        try:\n",
    "            index = next(index for (index, d) in enumerate(resolved_transitions) if d[\"name\"] == el_ion)\n",
    "            resolved_transitions[index]['wavelengths'] = (list(resolved_transitions[index]['wavelengths'].value) + [wvl])*u.angstrom\n",
    "        except StopIteration:\n",
    "            resolved_transitions.append({'name':el_ion,'wavelengths':[wvl]*u.angstrom})\n",
    "resolved_transitions.pop(1)"
   ]
  },
  {
   "cell_type": "code",
   "execution_count": 4,
   "metadata": {
    "collapsed": false
   },
   "outputs": [
    {
     "name": "stdout",
     "output_type": "stream",
     "text": [
      "ion si_7\n",
      "ion fe_10\n",
      "ion fe_11\n",
      "ion fe_12\n",
      "ion fe_13\n",
      "ion fe_15\n",
      "ion s_13\n",
      "ion fe_16\n",
      "ion ca_17\n"
     ]
    }
   ],
   "source": [
    "for ion in resolved_transitions:\n",
    "    print('ion {}'.format(ion['name']))\n",
    "    ch_ion = ch.ion(ion['name'])\n",
    "    tmp = []\n",
    "    for i,w in enumerate(ion['wavelengths'].value):\n",
    "        new_wvl = min(ch_ion.Wgfa['wvl'],key=lambda x:abs(x-w))\n",
    "        if abs(new_wvl - w)>0.1:\n",
    "            raise ValueError('Closest wavelength {} is not within tolerance of {}'.format(new_wvl,w))\n",
    "        tmp.append(new_wvl)\n",
    "    tmp = tmp*ion['wavelengths'].unit\n",
    "    ion['wavelengths'] = tmp"
   ]
  },
  {
   "cell_type": "markdown",
   "metadata": {},
   "source": [
    "Now, make a list of *all* of the ions we want to look at."
   ]
  },
  {
   "cell_type": "code",
   "execution_count": 5,
   "metadata": {
    "collapsed": true
   },
   "outputs": [],
   "source": [
    "ion_names = ['si_7','s_13','ca_17'] + ['fe_{}'.format(i) for i in [6,8]+list(range(10,26))]"
   ]
  },
  {
   "cell_type": "code",
   "execution_count": 6,
   "metadata": {
    "collapsed": false
   },
   "outputs": [
    {
     "name": "stdout",
     "output_type": "stream",
     "text": [
      "Building list for si_7\n",
      "Building list for s_13\n",
      "Building list for ca_17\n",
      "Building list for fe_6\n",
      "Building list for fe_8\n",
      "Building list for fe_10\n",
      "Building list for fe_11\n",
      "Building list for fe_12\n",
      "Building list for fe_13\n",
      "Building list for fe_14\n",
      "Building list for fe_15\n",
      "Building list for fe_16\n",
      "Building list for fe_17\n",
      "Building list for fe_18\n",
      "Building list for fe_19\n",
      "Building list for fe_20\n",
      "Building list for fe_21\n",
      "Building list for fe_22\n",
      "Building list for fe_23\n",
      "Building list for fe_24\n",
      "Building list for fe_25\n"
     ]
    }
   ],
   "source": [
    "ion_masterlist = []\n",
    "wvl_range = [80.0,350.0]\n",
    "for name in ion_names:\n",
    "    print('Building list for {}'.format(name))\n",
    "    tmp = {'name':name}\n",
    "    ci = ch.ion(name)\n",
    "    wvls = [w for w in ci.Wgfa['wvl'] if wvl_range[0] <= w <= wvl_range[1]]\n",
    "    wvls = wvls*u.angstrom\n",
    "    tmp['wavelengths'] = wvls\n",
    "    resolved_ion = [rt for rt in resolved_transitions if rt['name']==name]\n",
    "    if resolved_ion:\n",
    "        tmp['resolve_wavelength'] = [True if w in resolved_ion[0]['wavelengths'] else False for w in wvls]\n",
    "    else:\n",
    "        tmp['resolve_wavelength'] = [False]*len(wvls)\n",
    "    ion_masterlist.append(tmp)"
   ]
  },
  {
   "cell_type": "markdown",
   "metadata": {},
   "source": [
    "Now, create the model and calculate the emissivity."
   ]
  },
  {
   "cell_type": "code",
   "execution_count": 13,
   "metadata": {
    "collapsed": false,
    "scrolled": false
   },
   "outputs": [
    {
     "name": "stderr",
     "output_type": "stream",
     "text": [
      "INFO:EmissionModel:Using CHIANTI HDF5 database in /data/datadrive2/ar_viz/seminar_poc/chianti_db.h5\n",
      "INFO:EmissionModel:Building entry for si_7\n",
      "INFO:EmissionModel:Building elvlc entry for si_7\n",
      "INFO:EmissionModel:Building wgfa entry for si_7\n",
      "INFO:EmissionModel:Building scups entry for si_7\n",
      "INFO:EmissionModel:Building psplups entry for si_7\n",
      "INFO:EmissionModel:Building entry for s_13\n",
      "INFO:EmissionModel:Building elvlc entry for s_13\n",
      "INFO:EmissionModel:Building wgfa entry for s_13\n",
      "INFO:EmissionModel:Building scups entry for s_13\n",
      "INFO:EmissionModel:Building psplups entry for s_13\n",
      "INFO:EmissionModel:Building entry for ca_17\n",
      "INFO:EmissionModel:Building elvlc entry for ca_17\n",
      "INFO:EmissionModel:Building wgfa entry for ca_17\n",
      "INFO:EmissionModel:Building scups entry for ca_17\n",
      "INFO:EmissionModel:Building psplups entry for ca_17\n",
      "INFO:EmissionModel:Building entry for fe_6\n",
      "INFO:EmissionModel:Building elvlc entry for fe_6\n",
      "INFO:EmissionModel:Building wgfa entry for fe_6\n",
      "INFO:EmissionModel:Building scups entry for fe_6\n",
      "INFO:EmissionModel:Building psplups entry for fe_6\n",
      "INFO:EmissionModel:Building entry for fe_8\n",
      "INFO:EmissionModel:Building elvlc entry for fe_8\n",
      "INFO:EmissionModel:Building wgfa entry for fe_8\n",
      "INFO:EmissionModel:Building scups entry for fe_8\n",
      "INFO:EmissionModel:Building psplups entry for fe_8\n",
      "INFO:EmissionModel:Building entry for fe_10\n",
      "INFO:EmissionModel:Building elvlc entry for fe_10\n",
      "INFO:EmissionModel:Building wgfa entry for fe_10\n",
      "INFO:EmissionModel:Building scups entry for fe_10\n",
      "INFO:EmissionModel:Building psplups entry for fe_10\n",
      "INFO:EmissionModel:Building entry for fe_11\n",
      "INFO:EmissionModel:Building elvlc entry for fe_11\n",
      "INFO:EmissionModel:Building wgfa entry for fe_11\n",
      "INFO:EmissionModel:Building scups entry for fe_11\n",
      "INFO:EmissionModel:Building psplups entry for fe_11\n",
      "INFO:EmissionModel:Building entry for fe_12\n",
      "INFO:EmissionModel:Building elvlc entry for fe_12\n",
      "INFO:EmissionModel:Building wgfa entry for fe_12\n",
      "INFO:EmissionModel:Building scups entry for fe_12\n",
      "INFO:EmissionModel:Building psplups entry for fe_12\n",
      "INFO:EmissionModel:Building entry for fe_13\n",
      "INFO:EmissionModel:Building elvlc entry for fe_13\n",
      "INFO:EmissionModel:Building wgfa entry for fe_13\n",
      "INFO:EmissionModel:Building scups entry for fe_13\n",
      "INFO:EmissionModel:Building psplups entry for fe_13\n",
      "INFO:EmissionModel:Building entry for fe_14\n",
      "INFO:EmissionModel:Building elvlc entry for fe_14\n",
      "INFO:EmissionModel:Building wgfa entry for fe_14\n",
      "INFO:EmissionModel:Building scups entry for fe_14\n",
      "INFO:EmissionModel:Building psplups entry for fe_14\n",
      "INFO:EmissionModel:Building entry for fe_15\n",
      "INFO:EmissionModel:Building elvlc entry for fe_15\n",
      "INFO:EmissionModel:Building wgfa entry for fe_15\n",
      "INFO:EmissionModel:Building scups entry for fe_15\n",
      "INFO:EmissionModel:Building psplups entry for fe_15\n",
      "INFO:EmissionModel:Building entry for fe_16\n",
      "INFO:EmissionModel:Building elvlc entry for fe_16\n",
      "INFO:EmissionModel:Building wgfa entry for fe_16\n",
      "INFO:EmissionModel:Building scups entry for fe_16\n",
      "INFO:EmissionModel:Building psplups entry for fe_16\n",
      "INFO:EmissionModel:Building entry for fe_17\n",
      "INFO:EmissionModel:Building elvlc entry for fe_17\n",
      "INFO:EmissionModel:Building wgfa entry for fe_17\n",
      "INFO:EmissionModel:Building scups entry for fe_17\n",
      "INFO:EmissionModel:Building psplups entry for fe_17\n",
      "INFO:EmissionModel:Building entry for fe_18\n",
      "INFO:EmissionModel:Building elvlc entry for fe_18\n",
      "INFO:EmissionModel:Building wgfa entry for fe_18\n",
      "INFO:EmissionModel:Building scups entry for fe_18\n",
      "INFO:EmissionModel:Building psplups entry for fe_18\n",
      "INFO:EmissionModel:Building entry for fe_19\n",
      "INFO:EmissionModel:Building elvlc entry for fe_19\n",
      "INFO:EmissionModel:Building wgfa entry for fe_19\n",
      "INFO:EmissionModel:Building scups entry for fe_19\n",
      "INFO:EmissionModel:Building psplups entry for fe_19\n",
      "INFO:EmissionModel:Building entry for fe_20\n",
      "INFO:EmissionModel:Building elvlc entry for fe_20\n",
      "INFO:EmissionModel:Building wgfa entry for fe_20\n",
      "INFO:EmissionModel:Building scups entry for fe_20\n",
      "INFO:EmissionModel:Building psplups entry for fe_20\n",
      "INFO:EmissionModel:Building entry for fe_21\n",
      "INFO:EmissionModel:Building elvlc entry for fe_21\n",
      "INFO:EmissionModel:Building wgfa entry for fe_21\n",
      "INFO:EmissionModel:Building scups entry for fe_21\n",
      "INFO:EmissionModel:Building psplups entry for fe_21\n",
      "INFO:EmissionModel:Building entry for fe_22\n",
      "INFO:EmissionModel:Building elvlc entry for fe_22\n",
      "INFO:EmissionModel:Building wgfa entry for fe_22\n",
      "INFO:EmissionModel:Building scups entry for fe_22\n",
      "INFO:EmissionModel:Building psplups entry for fe_22\n",
      "INFO:EmissionModel:Building entry for fe_23\n",
      "INFO:EmissionModel:Building elvlc entry for fe_23\n",
      "INFO:EmissionModel:Building wgfa entry for fe_23\n",
      "INFO:EmissionModel:Building scups entry for fe_23\n",
      "INFO:EmissionModel:Building psplups entry for fe_23\n",
      "INFO:EmissionModel:Building entry for fe_24\n",
      "INFO:EmissionModel:Building elvlc entry for fe_24\n",
      "INFO:EmissionModel:Building wgfa entry for fe_24\n",
      "INFO:EmissionModel:Building scups entry for fe_24\n",
      "INFO:EmissionModel:Building psplups entry for fe_24\n",
      "INFO:EmissionModel:Building entry for fe_25\n",
      "INFO:EmissionModel:Building elvlc entry for fe_25\n",
      "INFO:EmissionModel:Building wgfa entry for fe_25\n",
      "INFO:EmissionModel:Building scups entry for fe_25\n",
      "INFO:EmissionModel:Building psplups entry for fe_25\n",
      "INFO:EmissionModel:Creating ion si_7\n",
      "INFO:EmissionModel:Creating ion s_13\n",
      "INFO:EmissionModel:Creating ion ca_17\n",
      "INFO:EmissionModel:Creating ion fe_6\n",
      "WARNING:ChIon:Fe VI psplups file not found\n",
      "INFO:EmissionModel:Creating ion fe_8\n",
      "WARNING:ChIon:Fe VIII psplups file not found\n",
      "INFO:EmissionModel:Creating ion fe_10\n",
      "INFO:EmissionModel:Creating ion fe_11\n",
      "INFO:EmissionModel:Creating ion fe_12\n",
      "INFO:EmissionModel:Creating ion fe_13\n",
      "INFO:EmissionModel:Creating ion fe_14\n",
      "INFO:EmissionModel:Creating ion fe_15\n",
      "INFO:EmissionModel:Creating ion fe_16\n",
      "WARNING:ChIon:Fe XVI psplups file not found\n",
      "INFO:EmissionModel:Creating ion fe_17\n",
      "WARNING:ChIon:Fe XVII psplups file not found\n",
      "INFO:EmissionModel:Creating ion fe_18\n",
      "INFO:EmissionModel:Creating ion fe_19\n",
      "INFO:EmissionModel:Creating ion fe_20\n",
      "INFO:EmissionModel:Creating ion fe_21\n",
      "INFO:EmissionModel:Creating ion fe_22\n",
      "INFO:EmissionModel:Creating ion fe_23\n",
      "INFO:EmissionModel:Creating ion fe_24\n",
      "WARNING:ChIon:Fe XXIV psplups file not found\n",
      "INFO:EmissionModel:Creating ion fe_25\n",
      "WARNING:ChIon:Fe XXV psplups file not found\n"
     ]
    }
   ],
   "source": [
    "emiss_model = EmissionModel(ion_masterlist,density=np.logspace(8,11,20)/(u.cm**3),\n",
    "                            energy_unit='photon',chianti_db_filename=os.path.join(ar_root,'chianti_db.h5'))"
   ]
  },
  {
   "cell_type": "code",
   "execution_count": 14,
   "metadata": {
    "collapsed": false
   },
   "outputs": [
    {
     "name": "stderr",
     "output_type": "stream",
     "text": [
      "INFO:EmissionModel:Calculating emissivity for ion si_7\n",
      "INFO:ChIon:Expressing emissivity in units of photons\n",
      "INFO:ChIon:Calculating level populations.\n",
      "INFO:ChIon:Calculating emissivity\n",
      "INFO:EmissionModel:Calculating emissivity for ion s_13\n",
      "INFO:ChIon:Expressing emissivity in units of photons\n",
      "INFO:ChIon:Calculating level populations.\n",
      "INFO:ChIon:Calculating emissivity\n",
      "INFO:EmissionModel:Calculating emissivity for ion ca_17\n",
      "INFO:ChIon:Expressing emissivity in units of photons\n",
      "INFO:ChIon:Calculating level populations.\n",
      "INFO:ChIon:Calculating emissivity\n",
      "INFO:EmissionModel:Calculating emissivity for ion fe_6\n",
      "INFO:ChIon:Expressing emissivity in units of photons\n",
      "INFO:ChIon:Calculating level populations.\n",
      "INFO:ChIon:Calculating emissivity\n",
      "INFO:EmissionModel:Calculating emissivity for ion fe_8\n",
      "INFO:ChIon:Expressing emissivity in units of photons\n",
      "INFO:ChIon:Calculating level populations.\n",
      "INFO:ChIon:Calculating emissivity\n",
      "INFO:EmissionModel:Calculating emissivity for ion fe_10\n",
      "INFO:ChIon:Expressing emissivity in units of photons\n",
      "INFO:ChIon:Calculating level populations.\n",
      "INFO:ChIon:Calculating emissivity\n",
      "INFO:EmissionModel:Calculating emissivity for ion fe_11\n",
      "INFO:ChIon:Expressing emissivity in units of photons\n",
      "INFO:ChIon:Calculating level populations.\n",
      "INFO:ChIon:Calculating emissivity\n",
      "INFO:EmissionModel:Calculating emissivity for ion fe_12\n",
      "INFO:ChIon:Expressing emissivity in units of photons\n",
      "INFO:ChIon:Calculating level populations.\n",
      "INFO:ChIon:Calculating emissivity\n",
      "INFO:EmissionModel:Calculating emissivity for ion fe_13\n",
      "INFO:ChIon:Expressing emissivity in units of photons\n",
      "INFO:ChIon:Calculating level populations.\n",
      "INFO:ChIon:Calculating emissivity\n",
      "INFO:EmissionModel:Calculating emissivity for ion fe_14\n",
      "INFO:ChIon:Expressing emissivity in units of photons\n",
      "INFO:ChIon:Calculating level populations.\n",
      "INFO:ChIon:Calculating emissivity\n",
      "INFO:EmissionModel:Calculating emissivity for ion fe_15\n",
      "INFO:ChIon:Expressing emissivity in units of photons\n",
      "INFO:ChIon:Calculating level populations.\n",
      "INFO:ChIon:Calculating emissivity\n",
      "INFO:EmissionModel:Calculating emissivity for ion fe_16\n",
      "INFO:ChIon:Expressing emissivity in units of photons\n",
      "INFO:ChIon:Calculating level populations.\n",
      "INFO:ChIon:Calculating emissivity\n",
      "INFO:EmissionModel:Calculating emissivity for ion fe_17\n",
      "INFO:ChIon:Expressing emissivity in units of photons\n",
      "INFO:ChIon:Calculating level populations.\n",
      "INFO:ChIon:Calculating emissivity\n",
      "INFO:EmissionModel:Calculating emissivity for ion fe_18\n",
      "INFO:ChIon:Expressing emissivity in units of photons\n",
      "INFO:ChIon:Calculating level populations.\n",
      "INFO:ChIon:Calculating emissivity\n",
      "INFO:EmissionModel:Calculating emissivity for ion fe_19\n",
      "INFO:ChIon:Expressing emissivity in units of photons\n",
      "INFO:ChIon:Calculating level populations.\n",
      "INFO:ChIon:Calculating emissivity\n",
      "INFO:EmissionModel:Calculating emissivity for ion fe_20\n",
      "INFO:ChIon:Expressing emissivity in units of photons\n",
      "INFO:ChIon:Calculating level populations.\n",
      "INFO:ChIon:Calculating emissivity\n",
      "INFO:EmissionModel:Calculating emissivity for ion fe_21\n",
      "INFO:ChIon:Expressing emissivity in units of photons\n",
      "INFO:ChIon:Calculating level populations.\n",
      "INFO:ChIon:Calculating emissivity\n",
      "INFO:EmissionModel:Calculating emissivity for ion fe_22\n",
      "INFO:ChIon:Expressing emissivity in units of photons\n",
      "INFO:ChIon:Calculating level populations.\n",
      "INFO:ChIon:Calculating emissivity\n",
      "INFO:EmissionModel:Calculating emissivity for ion fe_23\n",
      "INFO:ChIon:Expressing emissivity in units of photons\n",
      "INFO:ChIon:Calculating level populations.\n",
      "INFO:ChIon:Calculating emissivity\n",
      "INFO:EmissionModel:Calculating emissivity for ion fe_24\n",
      "INFO:ChIon:Expressing emissivity in units of photons\n",
      "INFO:ChIon:Calculating level populations.\n",
      "INFO:ChIon:Calculating emissivity\n",
      "INFO:EmissionModel:Calculating emissivity for ion fe_25\n",
      "INFO:ChIon:Expressing emissivity in units of photons\n",
      "INFO:ChIon:Calculating level populations.\n",
      "INFO:ChIon:Calculating emissivity\n"
     ]
    }
   ],
   "source": [
    "emiss_model.calculate_emissivity()"
   ]
  },
  {
   "cell_type": "markdown",
   "metadata": {},
   "source": [
    "Finally, save the model to be reloaded later."
   ]
  },
  {
   "cell_type": "code",
   "execution_count": 16,
   "metadata": {
    "collapsed": false
   },
   "outputs": [
    {
     "name": "stderr",
     "output_type": "stream",
     "text": [
      "INFO:EmissionModel:Saving emission model information in /data/datadrive2/ar_viz/seminar_poc/checkpoint_emiss_model\n"
     ]
    }
   ],
   "source": [
    "emiss_model.save(savedir=os.path.join(ar_root,'checkpoint_emiss_model'))"
   ]
  },
  {
   "cell_type": "code",
   "execution_count": null,
   "metadata": {
    "collapsed": true
   },
   "outputs": [],
   "source": []
  }
 ],
 "metadata": {
  "kernelspec": {
   "display_name": "Python [conda env:synthesizar]",
   "language": "python",
   "name": "conda-env-synthesizar-py"
  },
  "language_info": {
   "codemirror_mode": {
    "name": "ipython",
    "version": 3
   },
   "file_extension": ".py",
   "mimetype": "text/x-python",
   "name": "python",
   "nbconvert_exporter": "python",
   "pygments_lexer": "ipython3",
   "version": "3.5.2"
  }
 },
 "nbformat": 4,
 "nbformat_minor": 2
}
